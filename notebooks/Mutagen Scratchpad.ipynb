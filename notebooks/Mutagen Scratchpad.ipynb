{
 "cells": [
  {
   "cell_type": "markdown",
   "metadata": {},
   "source": [
    "# Mutagen Scratchpad"
   ]
  },
  {
   "cell_type": "code",
   "execution_count": null,
   "metadata": {},
   "outputs": [],
   "source": [
    "import os\n",
    "import mutagen\n",
    "from mutagen.mp4 import AtomDataType\n",
    "from pathlib import Path"
   ]
  },
  {
   "cell_type": "code",
   "execution_count": null,
   "metadata": {},
   "outputs": [],
   "source": [
    "rootdir = '/Users/sorenlind/Desktop/Temp/Music/'\n",
    "for subdir, dirs, files in os.walk(rootdir):\n",
    "    print(subdir)\n",
    "    if len(dirs):\n",
    "        # print(\"skipping\", subdir)\n",
    "        continue\n",
    "    print(subdir)\n",
    "    covers_found = set()\n",
    "    for file in sorted(files):\n",
    "        # path = Path(file)\n",
    "        # print(\"-\", os.path.join(subdir, file))\n",
    "        path = os.path.join(subdir, file)\n",
    "        audio = mutagen.File(path)\n",
    "        has_cover = \"covr\" in audio.tags\n",
    "        cover_format = \"None\"\n",
    "        cover_count = 0\n",
    "        if has_cover:\n",
    "            covers = audio.tags[\"covr\"]\n",
    "            cover_count = len(covers)\n",
    "            cover_format = AtomDataType(covers[0].imageformat)\n",
    "            covers_found.add(covers[0].hex())\n",
    "            \n",
    "        print(\"-\", file, \":\", cover_count, \"(\", cover_format, \")\", )\n",
    "\n",
    "    if len(covers_found) == 0:\n",
    "        print(\"NO COVERS!\")\n",
    "    elif len(covers_found) == 1:\n",
    "        print(\"ALL SONGS HAVE SAME ARTWORK\")\n",
    "    else:\n",
    "        print(\"MULTIPLE ARTWORK!\")"
   ]
  },
  {
   "cell_type": "code",
   "execution_count": null,
   "metadata": {},
   "outputs": [],
   "source": [
    "for subdir, dirs, files in os.walk(rootdir):\n",
    "    if len(dirs):\n",
    "        # print(\"skipping\", subdir)\n",
    "        continue\n",
    "    #print(subdir)\n",
    "    covers_found = set()\n",
    "    for file in sorted(files):\n",
    "        path = os.path.join(subdir, file)\n",
    "        audio = mutagen.File(path)\n",
    "        has_cover = \"covr\" in audio.tags\n",
    "        cover_format = \"None\"\n",
    "        cover_count = 0\n",
    "        if has_cover:\n",
    "            covers = audio.tags[\"covr\"]\n",
    "            cover_count = len(covers)\n",
    "            cover_format = AtomDataType(covers[0].imageformat)\n",
    "            covers_found.add(covers[0].hex())\n",
    "            \n",
    "        #print(\"-\", file, \":\", cover_count, \"(\", cover_format, \")\", )\n",
    "\n",
    "    artist_album = \" - \".join(Path(subdir).parts[-2:])\n",
    "    if len(covers_found) == 0:\n",
    "        print(artist_album, \": NO COVERS!\")\n",
    "    elif len(covers_found) == 1:\n",
    "        # print(artist_album, \": ALL SONGS HAVE SAME ARTWORK\")\n",
    "        pass\n",
    "    else:\n",
    "        print(artist_album, \": MULTIPLE ARTWORK!\")"
   ]
  }
 ],
 "metadata": {
  "kernelspec": {
   "display_name": "Python 3",
   "language": "python",
   "name": "python3"
  },
  "language_info": {
   "codemirror_mode": {
    "name": "ipython",
    "version": 3
   },
   "file_extension": ".py",
   "mimetype": "text/x-python",
   "name": "python",
   "nbconvert_exporter": "python",
   "pygments_lexer": "ipython3",
   "version": "3.6.2"
  }
 },
 "nbformat": 4,
 "nbformat_minor": 2
}
